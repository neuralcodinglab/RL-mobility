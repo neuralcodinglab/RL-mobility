{
 "cells": [
  {
   "cell_type": "code",
   "execution_count": 1,
   "metadata": {},
   "outputs": [],
   "source": [
    "# Local files\n",
    "import pyClient\n",
    "from pyClient import Environment\n",
    "import utils\n",
    "\n",
    "\n",
    "# OpenCV, numpy, matplotlib etc. \n",
    "import torch\n",
    "import numpy as np\n",
    "import cv2\n",
    "import matplotlib.pyplot as plt\n",
    "import matplotlib.animation"
   ]
  },
  {
   "cell_type": "markdown",
   "metadata": {},
   "source": [
    "### Environment\n",
    "\n",
    "Connect to the unity hallway environment.\n",
    "\n",
    "#### Attention: Start Unity server first!"
   ]
  },
  {
   "cell_type": "code",
   "execution_count": 51,
   "metadata": {},
   "outputs": [
    {
     "name": "stdout",
     "output_type": "stream",
     "text": [
      "<socket.socket fd=2220, family=AddressFamily.AF_INET, type=SocketKind.SOCK_STREAM, proto=0, laddr=('127.0.0.1', 57349), raddr=('127.0.0.1', 13000)>\n"
     ]
    }
   ],
   "source": [
    "# Unity environment\n",
    "ip         = \"127.0.0.1\" # Ip address that the TCP/IP interface listens to\n",
    "port       = 13000       # Port number that the TCP/IP interface listens to\n",
    "size       = 128\n",
    "screen_height = screen_width = size\n",
    "\n",
    "environment = pyClient.Environment(ip = ip, port = port, size = size, channels=16)\n",
    "\n",
    "print(environment.client)"
   ]
  },
  {
   "cell_type": "code",
   "execution_count": 54,
   "metadata": {
    "scrolled": false
   },
   "outputs": [
    {
     "data": {
      "image/png": "[encoded data removed]",
      "text/plain": [
       "<Figure size 500x500 with 1 Axes>"
      ]
     },
     "metadata": {
      "needs_background": "light"
     },
     "output_type": "display_data"
    }
   ],
   "source": [
    "# Reset environment\n",
    "end, reward, state_raw = environment.reset()\n",
    "\n",
    "# display current state (128x128 image)\n",
    "img = environment.state2arrays(state_raw)['semseg']\n",
    "img = cv2.resize(img, (480,480))\n",
    "\n",
    "plt.figure(figsize=(5,5),dpi=100)\n",
    "plt.imshow(img)\n",
    "plt.axis('off')\n",
    "plt.show()\n"
   ]
  },
  {
   "cell_type": "code",
   "execution_count": 28,
   "metadata": {},
   "outputs": [
    {
     "data": {
      "image/png": "[encoded data removed]",
      "text/plain": [
       "<Figure size 500x500 with 1 Axes>"
      ]
     },
     "metadata": {
      "needs_background": "light"
     },
     "output_type": "display_data"
    }
   ],
   "source": [
    "command = np.random.randint(3)\n",
    "end, reward, state_raw = environment.step(command)\n",
    "# display current state (128x128 image)\n",
    "img = environment.state2arrays(state_raw)['flow']\n",
    "img = cv2.resize(img, (480,480))\n",
    "\n",
    "plt.figure(figsize=(5,5),dpi=100)\n",
    "plt.imshow(img)\n",
    "plt.axis('off')\n",
    "plt.show()\n"
   ]
  },
  {
   "cell_type": "code",
   "execution_count": 5,
   "metadata": {},
   "outputs": [
    {
     "ename": "TypeError",
     "evalue": "list indices must be integers or slices, not tuple",
     "output_type": "error",
     "traceback": [
      "\u001b[1;31m---------------------------------------------------------------------------\u001b[0m",
      "\u001b[1;31mTypeError\u001b[0m                                 Traceback (most recent call last)",
      "\u001b[1;32m<ipython-input-5-5b9b8a49c99f>\u001b[0m in \u001b[0;36m<module>\u001b[1;34m\u001b[0m\n\u001b[1;32m----> 1\u001b[1;33m \u001b[0mplt\u001b[0m\u001b[1;33m.\u001b[0m\u001b[0mimshow\u001b[0m\u001b[1;33m(\u001b[0m\u001b[0mstate_raw\u001b[0m\u001b[1;33m[\u001b[0m\u001b[1;33m:\u001b[0m\u001b[1;33m,\u001b[0m\u001b[1;33m:\u001b[0m\u001b[1;33m,\u001b[0m\u001b[1;36m5\u001b[0m\u001b[1;33m]\u001b[0m\u001b[1;33m)\u001b[0m\u001b[1;33m\u001b[0m\u001b[1;33m\u001b[0m\u001b[0m\n\u001b[0m",
      "\u001b[1;31mTypeError\u001b[0m: list indices must be integers or slices, not tuple"
     ]
    }
   ],
   "source": [
    "plt.imshow(state_raw[:,:,5])"
   ]
  },
  {
   "cell_type": "code",
   "execution_count": null,
   "metadata": {},
   "outputs": [],
   "source": [
    "state_raw[...,3:6].shape"
   ]
  },
  {
   "cell_type": "code",
   "execution_count": null,
   "metadata": {},
   "outputs": [],
   "source": [
    "import matplotlib\n",
    "%matplotlib notebook\n",
    "\n",
    "f = plt.figure()\n",
    "ax = f.gca()\n",
    "\n",
    "im = environment.state2usableArray(state_raw)\n",
    "image = plt.imshow(im, interpolation='None', animated=True)\n",
    "plt.axis('off')\n",
    "\n",
    "def animateSteps(frame_index):\n",
    "    # Take a step 0:forward 1:left 2:right\n",
    "    command = np.random.randint(3)\n",
    "    end, reward, state_raw = environment.step(command)\n",
    "    reward = -reward + 100 if reward > 100 else reward\n",
    "    im = environment.state2usableArray(state_raw)\n",
    "    \n",
    "    # update frame\n",
    "    image.set_data(im)\n",
    "    ax.set_title('Reward: {}'.format(reward))\n",
    "    return image,\n",
    "\n",
    "ani = matplotlib.animation.FuncAnimation(f, animateSteps, interval=500, frames=10, blit=True)"
   ]
  },
  {
   "cell_type": "markdown",
   "metadata": {},
   "source": [
    "## Phosphene Simulator"
   ]
  },
  {
   "cell_type": "code",
   "execution_count": null,
   "metadata": {},
   "outputs": [],
   "source": [
    "RESOLUTION    = (50,50) # Number of phosphenes\n",
    "JITTER        = 0.35    # Variation in phosphene location (w.r.t. rectangular grid)\n",
    "INTENSITY_VAR = 0.9     # Variation in phosphene intensity\n",
    "SIGMA         = 0.9     # Size parameter for the individual phosphenes \n",
    "\n",
    "phosphene_simulator = utils.PhospheneSimulator(phosphene_resolution=RESOLUTION,\n",
    "                                               jitter=JITTER,\n",
    "                                               intensity_var=INTENSITY_VAR,\n",
    "                                               sigma=SIGMA)\n",
    "\n",
    "\n",
    "# Activation masks\n",
    "grayscale = cv2.cvtColor(img, cv2.COLOR_BGR2GRAY)\n",
    "binarized = (255*(grayscale>100)).astype('uint8')\n",
    "contours  = cv2.Canny(img, 35,70)\n",
    "\n",
    "\n",
    "\n",
    "# Visualize\n",
    "plt.figure(figsize=(15,5),dpi=150)\n",
    "\n",
    "plt.subplot(1,3,1)\n",
    "phos = phosphene_simulator(grayscale)\n",
    "plt.imshow(phos, cmap='gray')\n",
    "plt.axis('off')\n",
    "\n",
    "plt.subplot(1,3,2)\n",
    "phos = phosphene_simulator(binarized)\n",
    "plt.imshow(phos, cmap='gray')\n",
    "plt.axis('off')\n",
    "\n",
    "plt.subplot(1,3,3)\n",
    "phos = phosphene_simulator(contours)\n",
    "plt.imshow(phos, cmap='gray')\n",
    "plt.axis('off')\n",
    "\n",
    "\n",
    "plt.show()"
   ]
  }
 ],
 "metadata": {
  "kernelspec": {
   "display_name": "Python 3",
   "language": "python",
   "name": "python3"
  },
  "language_info": {
   "codemirror_mode": {
    "name": "ipython",
    "version": 3
   },
   "file_extension": ".py",
   "mimetype": "text/x-python",
   "name": "python",
   "nbconvert_exporter": "python",
   "pygments_lexer": "ipython3",
   "version": "3.6.7"
  }
 },
 "nbformat": 4,
 "nbformat_minor": 5
}
